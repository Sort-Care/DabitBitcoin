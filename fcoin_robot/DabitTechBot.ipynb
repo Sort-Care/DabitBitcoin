{
 "cells": [
  {
   "cell_type": "code",
   "execution_count": 3,
   "metadata": {},
   "outputs": [
    {
     "data": {
      "text/plain": [
       "<queue.Queue at 0x111411c18>"
      ]
     },
     "execution_count": 3,
     "metadata": {},
     "output_type": "execute_result"
    }
   ],
   "source": [
    "from telegram.ext import Updater\n",
    "from telegram.ext import CommandHandler\n",
    "from telegram.ext import MessageHandler, Filters\n",
    "from telegram import InlineQueryResultArticle, InputTextMessageContent\n",
    "\n",
    "updater = Updater(token = '616394582:AAF2_xHDF22hfHJ_eUJIVNlGqjDtifyqXIE')\n",
    "\n",
    "dispatcher = updater.dispatcher\n",
    "\n",
    "def start(bot, update):\n",
    "    bot.send_message(chat_id = update.message.chat_id,\n",
    "                    text = \"This is a start message\")\n",
    "    \n",
    "def echo(bot, update):\n",
    "    bot.send_message(chat_id = update.message.chat_id,\n",
    "                    text = \"You sent : \"+ update.message.text )\n",
    "    \n",
    "start_handler = CommandHandler('start', start)\n",
    "dispatcher.add_handler(start_handler)\n",
    "\n",
    "echo_handler = MessageHandler(Filters.text, echo)\n",
    "dispatcher.add_handler(echo_handler)\n",
    "\n",
    "updater.start_polling()"
   ]
  },
  {
   "cell_type": "code",
   "execution_count": null,
   "metadata": {},
   "outputs": [],
   "source": []
  }
 ],
 "metadata": {
  "kernelspec": {
   "display_name": "Python 3",
   "language": "python",
   "name": "python3"
  },
  "language_info": {
   "codemirror_mode": {
    "name": "ipython",
    "version": 3
   },
   "file_extension": ".py",
   "mimetype": "text/x-python",
   "name": "python",
   "nbconvert_exporter": "python",
   "pygments_lexer": "ipython3",
   "version": "3.5.5"
  }
 },
 "nbformat": 4,
 "nbformat_minor": 2
}
