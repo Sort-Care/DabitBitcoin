{
 "cells": [
  {
   "cell_type": "code",
   "execution_count": 3,
   "metadata": {},
   "outputs": [],
   "source": [
    "from fcoin3 import Fcoin\n",
    "import config\n",
    "from balance import balance"
   ]
  },
  {
   "cell_type": "code",
   "execution_count": 4,
   "metadata": {},
   "outputs": [],
   "source": [
    "fcoin = Fcoin()\n",
    "fcoin.auth(config.api_key, config.api_secret)"
   ]
  },
  {
   "cell_type": "code",
   "execution_count": 6,
   "metadata": {},
   "outputs": [],
   "source": [
    "res = fcoin.get_balance()['data']"
   ]
  },
  {
   "cell_type": "code",
   "execution_count": 8,
   "metadata": {},
   "outputs": [
    {
     "name": "stdout",
     "output_type": "stream",
     "text": [
      "[{'currency': 'zil', 'balance': '0.561285564782359322', 'available': '0.561285564782359322', 'frozen': '0.000000000000000000'}, {'currency': 'omg', 'balance': '0.000092864816009696', 'available': '0.000092864816009696', 'frozen': '0.000000000000000000'}, {'currency': 'btc', 'balance': '0.000139891604328742', 'available': '0.000139891604328742', 'frozen': '0.000000000000000000'}, {'currency': 'icx', 'balance': '0.006786445155574498', 'available': '0.006786445155574498', 'frozen': '0.000000000000000000'}, {'currency': 'eth', 'balance': '0.000519988935656248', 'available': '0.000519988935656248', 'frozen': '0.000000000000000000'}, {'currency': 'btm', 'balance': '0.040663319353277512', 'available': '0.040663319353277512', 'frozen': '0.000000000000000000'}, {'currency': 'bch', 'balance': '0.000068958687072586', 'available': '0.000068958687072586', 'frozen': '0.000000000000000000'}, {'currency': 'ae', 'balance': '0.000000000000000000', 'available': '0.000000000000000000', 'frozen': '0.000000000000000000'}, {'currency': 'ltc', 'balance': '0.000476092352623915', 'available': '0.000476092352623915', 'frozen': '0.000000000000000000'}, {'currency': 'zrx', 'balance': '0.000000000000000000', 'available': '0.000000000000000000', 'frozen': '0.000000000000000000'}, {'currency': 'usdt', 'balance': '1.033380838262686932', 'available': '1.033380838262686932', 'frozen': '0.000000000000000000'}, {'currency': 'ft', 'balance': '106.807516962818810631', 'available': '106.807516962818810631', 'frozen': '0.000000000000000000'}, {'currency': 'zip', 'balance': '1.737568573905273966', 'available': '1.737568573905273966', 'frozen': '0.000000000000000000'}, {'currency': 'etc', 'balance': '0.005465913365134402', 'available': '0.005465913365134402', 'frozen': '0.000000000000000000'}]\n"
     ]
    }
   ],
   "source": [
    "print(res)"
   ]
  },
  {
   "cell_type": "markdown",
   "metadata": {},
   "source": [
    "- Log the result into a file"
   ]
  },
  {
   "cell_type": "code",
   "execution_count": 12,
   "metadata": {},
   "outputs": [
    {
     "data": {
      "text/plain": [
       "{'data': {'seq': 6291129,\n",
       "  'ticker': [0.00094407,\n",
       "   37.1,\n",
       "   0.00094,\n",
       "   890899.2091734,\n",
       "   0.00094407,\n",
       "   29.02,\n",
       "   0.00130354,\n",
       "   0.00135,\n",
       "   0.0009344,\n",
       "   1744641851.7166173,\n",
       "   1909406.5996990858],\n",
       "  'type': 'ticker.fteth'},\n",
       " 'status': 0}"
      ]
     },
     "execution_count": 12,
     "metadata": {},
     "output_type": "execute_result"
    }
   ],
   "source": [
    "fcoin.get_market_ticker('fteth')"
   ]
  },
  {
   "cell_type": "code",
   "execution_count": null,
   "metadata": {},
   "outputs": [],
   "source": []
  }
 ],
 "metadata": {
  "kernelspec": {
   "display_name": "Python 3",
   "language": "python",
   "name": "python3"
  },
  "language_info": {
   "codemirror_mode": {
    "name": "ipython",
    "version": 3
   },
   "file_extension": ".py",
   "mimetype": "text/x-python",
   "name": "python",
   "nbconvert_exporter": "python",
   "pygments_lexer": "ipython3",
   "version": "3.5.5"
  }
 },
 "nbformat": 4,
 "nbformat_minor": 2
}
